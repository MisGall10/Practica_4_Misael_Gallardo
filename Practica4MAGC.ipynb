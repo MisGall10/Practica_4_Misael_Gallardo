{
  "nbformat": 4,
  "nbformat_minor": 0,
  "metadata": {
    "colab": {
      "provenance": [],
      "authorship_tag": "ABX9TyNTxdcTbPOf7AaO/rjgv8W2",
      "include_colab_link": true
    },
    "kernelspec": {
      "name": "python3",
      "display_name": "Python 3"
    },
    "language_info": {
      "name": "python"
    }
  },
  "cells": [
    {
      "cell_type": "markdown",
      "metadata": {
        "id": "view-in-github",
        "colab_type": "text"
      },
      "source": [
        "<a href=\"https://colab.research.google.com/github/MisGall10/Practica_4_Misael_Gallardo/blob/main/Practica4MAGC.ipynb\" target=\"_parent\"><img src=\"https://colab.research.google.com/assets/colab-badge.svg\" alt=\"Open In Colab\"/></a>"
      ]
    },
    {
      "cell_type": "markdown",
      "source": [
        "# **Practica # 4. Manipulación de matrices**\n",
        "\n",
        "Crea dos matrices de 3x3 con números aleatorios entre 1 y 10. Realiza las siguientes operaciones:\n",
        "\n",
        "1. Suma ambas matrices.\n",
        "2. Resta la segunda matriz de la primera.\n",
        "3. Multiplica la primera matriz por 2.\n",
        "4. Realiza una multiplicación matricial entre las dos matrices."
      ],
      "metadata": {
        "id": "Pr8M_vdfu6aC"
      }
    },
    {
      "cell_type": "code",
      "source": [
        "#Importamos numpy y la nombramos como np\n",
        "import numpy as np\n",
        "#Creamos la matriz A con ayuda de np.random.randit\n",
        "A = np.random.randint(1,11,(3,3))\n",
        "#Creamos la matriz B con ayuda de np.random.randit\n",
        "B = np.random.randint(1,11,(3,3))\n",
        "#Imprimimos el valor de la matriz A\n",
        "print(f'La matriz A es: \\n{A}')\n",
        "#Imprimimos el valor de la matriz B\n",
        "print(f'La matriz B es: \\n{B}')\n",
        "#Imprimimos el valor de A + B\n",
        "print(f'1. La operacion de la matriz A + B es: \\n{A + B}')\n",
        "#Imprimimos el valor de B - A\n",
        "print(f'2. La operacion de la matriz B - A es: \\n{B - A}')\n",
        "#Imprimimos el valor de 2A\n",
        "print(f'3. La operacion de la matriz 2A es: \\n{A * 2}')\n",
        "#Imprimimos el valor de A x B\n",
        "print(f'4. La operacion de la matriz AxB es: \\n{np.dot(A,B)}')"
      ],
      "metadata": {
        "colab": {
          "base_uri": "https://localhost:8080/"
        },
        "id": "J_61pnTkvUAp",
        "outputId": "f9f0d22f-afa2-4cea-9782-d46189651d7c"
      },
      "execution_count": 13,
      "outputs": [
        {
          "output_type": "stream",
          "name": "stdout",
          "text": [
            "La matriz A es: \n",
            "[[ 8  5  6]\n",
            " [ 9  5  7]\n",
            " [10  6  3]]\n",
            "La matriz B es: \n",
            "[[ 5 10  4]\n",
            " [ 9  7  2]\n",
            " [ 7  5  1]]\n",
            "1. La operacion de la matriz A + B es: \n",
            "[[13 15 10]\n",
            " [18 12  9]\n",
            " [17 11  4]]\n",
            "2. La operacion de la matriz B - A es: \n",
            "[[-3  5 -2]\n",
            " [ 0  2 -5]\n",
            " [-3 -1 -2]]\n",
            "3. La operacion de la matriz 2A es: \n",
            "[[16 10 12]\n",
            " [18 10 14]\n",
            " [20 12  6]]\n",
            "4. La operacion de la matriz AxB es: \n",
            "[[127 145  48]\n",
            " [139 160  53]\n",
            " [125 157  55]]\n"
          ]
        }
      ]
    }
  ]
}